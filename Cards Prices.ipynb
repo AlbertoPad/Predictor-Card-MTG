{
 "cells": [
  {
   "cell_type": "code",
   "execution_count": null,
   "id": "5711c225",
   "metadata": {},
   "outputs": [],
   "source": [
    "# !pip install selenium\n",
    "# !pip install mtgsdk\n",
    "# !python -m pip install --upgrade pip"
   ]
  },
  {
   "cell_type": "code",
   "execution_count": null,
   "id": "b3982821",
   "metadata": {},
   "outputs": [],
   "source": []
  },
  {
   "cell_type": "code",
   "execution_count": 19,
   "id": "596a40d7",
   "metadata": {},
   "outputs": [],
   "source": [
    "\n",
    "import requests\n",
    "\n",
    "# SQL\n",
    "import mysql.connector\n",
    "\n",
    "# Web-Scrapping\n",
    "from selenium import webdriver\n",
    "import time\n",
    "import datetime\n",
    "\n",
    "# Magic Database\n",
    "# https://www.mtgjson.com/api/v5/AllPrintings.json.xz\n"
   ]
  },
  {
   "cell_type": "markdown",
   "id": "0d9db237",
   "metadata": {},
   "source": [
    "### Data Adquisition"
   ]
  },
  {
   "cell_type": "code",
   "execution_count": 20,
   "id": "67711d2c",
   "metadata": {},
   "outputs": [],
   "source": [
    "url_database = \"https://mtgjson.com/api/v5/AllPrintings.sql\"\n",
    "response = requests.get(url_database)\n",
    "\n",
    "if response.status_code == 200:\n",
    "    # Guarda el contenido descargado en un archivo local\n",
    "    with open(\"MTG_Database.sql\", \"wb\") as sql_file:\n",
    "        sql_file.write(response.content)"
   ]
  },
  {
   "cell_type": "markdown",
   "id": "c4897e20",
   "metadata": {},
   "source": [
    "### Scrap Price (https://www.mtgprice.com/sets/Ravnica_Allegiance/Breeding_Pool)"
   ]
  },
  {
   "cell_type": "code",
   "execution_count": null,
   "id": "3df50bfe",
   "metadata": {},
   "outputs": [],
   "source": [
    "# Configura el controlador de Chrome\n",
    "driver = webdriver.Chrome()\n",
    "for edition in edition_list:\n",
    "    for name in name\n",
    "\n",
    "    driver.get(f'https://www.mtgprice.com/sets/{edition}/{Name}')\n",
    "    prices=driver.execute_script('return results')\n",
    "    "
   ]
  },
  {
   "cell_type": "code",
   "execution_count": null,
   "id": "afb8d31c",
   "metadata": {},
   "outputs": [],
   "source": [
    "prices[4]"
   ]
  },
  {
   "cell_type": "markdown",
   "id": "70a874bb",
   "metadata": {},
   "source": [
    "## Cambiar de UNIX a UTF"
   ]
  },
  {
   "cell_type": "code",
   "execution_count": null,
   "id": "66ced2d4",
   "metadata": {},
   "outputs": [],
   "source": [
    "timestamp  = 1563092869548\n",
    "timestamp = timestamp / 1000 # 2019-07-14 08:27:49.548000\n",
    "date = datetime.datetime.utcfromtimestamp(timestamp)"
   ]
  },
  {
   "cell_type": "code",
   "execution_count": null,
   "id": "f09e1d5f",
   "metadata": {},
   "outputs": [],
   "source": [
    "import xml.etree.ElementTree as ET\n",
    "import pandas as pd\n",
    "\n",
    "# Parsear el archivo XML\n",
    "tree = ET.parse('cards.xml')\n",
    "root = tree.getroot()\n",
    "\n",
    "# Inicializar listas para almacenar datos\n",
    "data = []\n",
    "\n",
    "# Iterar a través de los elementos del XML y extraer datos\n",
    "for elemento in root:\n",
    "    fila = {}\n",
    "    for subelemento in elemento:\n",
    "        fila[subelemento.tag] = subelemento.text\n",
    "    data.append(fila)\n",
    "\n",
    "# Crear un DataFrame a partir de los datos\n",
    "df = pd.DataFrame(data)\n",
    "\n",
    "# Mostrar el DataFrame\n",
    "print(df)\n"
   ]
  },
  {
   "cell_type": "code",
   "execution_count": null,
   "id": "fec9a5df",
   "metadata": {},
   "outputs": [],
   "source": []
  }
 ],
 "metadata": {
  "kernelspec": {
   "display_name": "Python 3 (ipykernel)",
   "language": "python",
   "name": "python3"
  },
  "language_info": {
   "codemirror_mode": {
    "name": "ipython",
    "version": 3
   },
   "file_extension": ".py",
   "mimetype": "text/x-python",
   "name": "python",
   "nbconvert_exporter": "python",
   "pygments_lexer": "ipython3",
   "version": "3.9.12"
  },
  "toc": {
   "base_numbering": 1,
   "nav_menu": {},
   "number_sections": true,
   "sideBar": true,
   "skip_h1_title": false,
   "title_cell": "Table of Contents",
   "title_sidebar": "Contents",
   "toc_cell": false,
   "toc_position": {},
   "toc_section_display": true,
   "toc_window_display": false
  }
 },
 "nbformat": 4,
 "nbformat_minor": 5
}
