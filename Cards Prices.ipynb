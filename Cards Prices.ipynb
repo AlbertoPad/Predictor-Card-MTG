{
 "cells": [
  {
   "cell_type": "code",
   "execution_count": 2,
   "id": "7d647437",
   "metadata": {},
   "outputs": [
    {
     "name": "stdout",
     "output_type": "stream",
     "text": [
      "Collecting mysql-connector-python\n",
      "  Obtaining dependency information for mysql-connector-python from https://files.pythonhosted.org/packages/92/56/73fb0cef5c38e9b777492a3a6f899ff0c3a253fb254445ad35bb636cfc0d/mysql_connector_python-8.1.0-cp39-cp39-win_amd64.whl.metadata\n",
      "  Downloading mysql_connector_python-8.1.0-cp39-cp39-win_amd64.whl.metadata (2.1 kB)\n",
      "Collecting protobuf<=4.21.12,>=4.21.1 (from mysql-connector-python)\n",
      "  Downloading protobuf-4.21.12-cp39-cp39-win_amd64.whl (527 kB)\n",
      "     ---------------------------------------- 0.0/527.0 kB ? eta -:--:--\n",
      "     -- ---------------------------------- 30.7/527.0 kB 660.6 kB/s eta 0:00:01\n",
      "     ------------------ ------------------- 256.0/527.0 kB 3.2 MB/s eta 0:00:01\n",
      "     -------------------------------------- 527.0/527.0 kB 4.7 MB/s eta 0:00:00\n",
      "Downloading mysql_connector_python-8.1.0-cp39-cp39-win_amd64.whl (10.8 MB)\n",
      "   ---------------------------------------- 0.0/10.8 MB ? eta -:--:--\n",
      "   ------ --------------------------------- 1.7/10.8 MB 35.1 MB/s eta 0:00:01\n",
      "   ------------- -------------------------- 3.6/10.8 MB 38.5 MB/s eta 0:00:01\n",
      "   ------------------- -------------------- 5.3/10.8 MB 41.9 MB/s eta 0:00:01\n",
      "   --------------------------- ------------ 7.4/10.8 MB 39.5 MB/s eta 0:00:01\n",
      "   ---------------------------------- ----- 9.2/10.8 MB 39.4 MB/s eta 0:00:01\n",
      "   ---------------------------------------  10.8/10.8 MB 40.9 MB/s eta 0:00:01\n",
      "   ---------------------------------------- 10.8/10.8 MB 36.3 MB/s eta 0:00:00\n",
      "Installing collected packages: protobuf, mysql-connector-python\n",
      "  Attempting uninstall: protobuf\n",
      "    Found existing installation: protobuf 4.24.4\n",
      "    Uninstalling protobuf-4.24.4:\n",
      "      Successfully uninstalled protobuf-4.24.4\n",
      "Successfully installed mysql-connector-python-8.1.0 protobuf-4.21.12\n"
     ]
    }
   ],
   "source": [
    "# !pip install -r neces.txt\n",
    "!pip install mysql-connector-python"
   ]
  },
  {
   "cell_type": "markdown",
   "id": "ee5ddb6b",
   "metadata": {},
   "source": [
    "### Library"
   ]
  },
  {
   "cell_type": "code",
   "execution_count": 3,
   "id": "5211415a",
   "metadata": {},
   "outputs": [],
   "source": [
    "\n",
    "import requests\n",
    "import os\n",
    "# SQL\n",
    "import mysql.connector\n",
    "from mysql.connector import errorcode\n",
    "# Web-Scrapping\n",
    "from selenium import webdriver\n",
    "import time\n",
    "import datetime\n",
    "\n",
    "# Magic Database\n",
    "# https://www.mtgjson.com/api/v5/AllPrintings.json.xz\n"
   ]
  },
  {
   "cell_type": "markdown",
   "id": "d2364dd7",
   "metadata": {},
   "source": [
    "### Data Adquisition - SQL"
   ]
  },
  {
   "cell_type": "code",
   "execution_count": 4,
   "id": "99206397",
   "metadata": {},
   "outputs": [],
   "source": [
    "# Configura la conexión a la base de datos MySQL\n",
    "try:\n",
    "    db = mysql.connector.connect(\n",
    "        host = \"localhost\",\n",
    "        user=\"root\",\n",
    "        password=\"1234\",\n",
    "        database= \"mtg\",\n",
    "    )\n",
    "except mysql.connector.Error as err:\n",
    "    if err.errno == errorcode.ER_ACCESS_DENIED_ERROR:\n",
    "        print(\"Acceso denegado: Usuario o contraseña incorrectos\")\n",
    "    elif err.errno == errorcode.ER_BAD_DB_ERROR:\n",
    "        print(\"La base de datos no existe\")\n",
    "    else:\n",
    "        print(err)"
   ]
  },
  {
   "cell_type": "code",
   "execution_count": null,
   "id": "1b67ec44",
   "metadata": {},
   "outputs": [],
   "source": [
    "# Descarga el archivo SQL desde la URL\n",
    "url_database = \"https://mtgjson.com/api/v5/AllPrintings.sql\"\n",
    "response = requests.get(url_database)\n",
    "\n",
    "if response.status_code == 200:\n",
    "    # Guarda el contenido descargado en un archivo local\n",
    "    with open(\"MTG_Database.sql\", \"wb\") as sql_file:\n",
    "        sql_file.write(response.content)\n",
    "else:\n",
    "    print(f\"Error al descargar el archivo SQL. Código de estado: {response.status_code}\")"
   ]
  },
  {
   "cell_type": "code",
   "execution_count": null,
   "id": "b87a136c",
   "metadata": {},
   "outputs": [],
   "source": [
    "# Lee el archivo SQL descargado\n",
    "with open('MTG_Database.sql', 'r', encoding='utf-8') as sql_file:\n",
    "    sql_script = sql_file.read()\n",
    "\n",
    "# Ejecuta el script SQL en la base de datos\n",
    "try:\n",
    "    cursor = db.cursor()\n",
    "    cursor.execute(sql_script, multi=True)\n",
    "    db.commit()\n",
    "    print(\"El script SQL se ha ejecutado correctamente.\")\n",
    "except mysql.connector.Error as err:\n",
    "    print(f\"Error al ejecutar el script SQL: {err}\")\n",
    "    db.rollback()\n",
    "finally:\n",
    "    db.close()"
   ]
  },
  {
   "cell_type": "markdown",
   "id": "7f3a8004",
   "metadata": {},
   "source": [
    "### Scrap Price (https://www.mtgprice.com/sets/Ravnica_Allegiance/Breeding_Pool)"
   ]
  },
  {
   "cell_type": "code",
   "execution_count": null,
   "id": "3df50bfe",
   "metadata": {},
   "outputs": [],
   "source": [
    "# Configura el controlador de Chrome\n",
    "driver = webdriver.Chrome()\n",
    "for edition in edition_list:\n",
    "    for name in name\n",
    "\n",
    "    driver.get(f'https://www.mtgprice.com/sets/{edition}/{Name}')\n",
    "    prices=driver.execute_script('return results')\n",
    "    "
   ]
  },
  {
   "cell_type": "code",
   "execution_count": null,
   "id": "afb8d31c",
   "metadata": {},
   "outputs": [],
   "source": [
    "prices[4]"
   ]
  },
  {
   "cell_type": "markdown",
   "id": "70a874bb",
   "metadata": {},
   "source": [
    "## Cambiar de UNIX a UTF"
   ]
  },
  {
   "cell_type": "code",
   "execution_count": null,
   "id": "66ced2d4",
   "metadata": {},
   "outputs": [],
   "source": [
    "timestamp  = 1563092869548\n",
    "timestamp = timestamp / 1000 # 2019-07-14 08:27:49.548000\n",
    "date = datetime.datetime.utcfromtimestamp(timestamp)"
   ]
  },
  {
   "cell_type": "code",
   "execution_count": null,
   "id": "f09e1d5f",
   "metadata": {},
   "outputs": [],
   "source": [
    "import xml.etree.ElementTree as ET\n",
    "import pandas as pd\n",
    "\n",
    "# Parsear el archivo XML\n",
    "tree = ET.parse('cards.xml')\n",
    "root = tree.getroot()\n",
    "\n",
    "# Inicializar listas para almacenar datos\n",
    "data = []\n",
    "\n",
    "# Iterar a través de los elementos del XML y extraer datos\n",
    "for elemento in root:\n",
    "    fila = {}\n",
    "    for subelemento in elemento:\n",
    "        fila[subelemento.tag] = subelemento.text\n",
    "    data.append(fila)\n",
    "\n",
    "# Crear un DataFrame a partir de los datos\n",
    "df = pd.DataFrame(data)\n",
    "\n",
    "# Mostrar el DataFrame\n",
    "print(df)\n"
   ]
  },
  {
   "cell_type": "code",
   "execution_count": null,
   "id": "fec9a5df",
   "metadata": {},
   "outputs": [],
   "source": []
  }
 ],
 "metadata": {
  "kernelspec": {
   "display_name": "Python 3 (ipykernel)",
   "language": "python",
   "name": "python3"
  },
  "language_info": {
   "codemirror_mode": {
    "name": "ipython",
    "version": 3
   },
   "file_extension": ".py",
   "mimetype": "text/x-python",
   "name": "python",
   "nbconvert_exporter": "python",
   "pygments_lexer": "ipython3",
   "version": "3.9.18"
  },
  "toc": {
   "base_numbering": 1,
   "nav_menu": {},
   "number_sections": true,
   "sideBar": true,
   "skip_h1_title": false,
   "title_cell": "Table of Contents",
   "title_sidebar": "Contents",
   "toc_cell": false,
   "toc_position": {},
   "toc_section_display": true,
   "toc_window_display": false
  }
 },
 "nbformat": 4,
 "nbformat_minor": 5
}
