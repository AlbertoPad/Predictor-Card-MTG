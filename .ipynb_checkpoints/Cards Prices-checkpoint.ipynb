{
 "cells": [
  {
   "cell_type": "code",
   "execution_count": null,
   "id": "7d647437",
   "metadata": {},
   "outputs": [],
   "source": [
    "# !pip install -r neces.txt\n",
    "# !pip install mysql-connector-python"
   ]
  },
  {
   "cell_type": "markdown",
   "id": "ee5ddb6b",
   "metadata": {},
   "source": [
    "### Library"
   ]
  },
  {
   "cell_type": "code",
   "execution_count": 12,
   "id": "5211415a",
   "metadata": {},
   "outputs": [],
   "source": [
    "import requests\n",
    "import os\n",
    "import json\n",
    "import pandas as pd\n",
    "from tqdm import tqdm\n",
    "# SQL\n",
    "import mysql.connector\n",
    "from mysql.connector import errorcode\n",
    "# Web-Scrapping\n",
    "from selenium import webdriver\n",
    "import time\n",
    "import datetime\n",
    "\n",
    "# Magic Database\n",
    "# https://www.mtgjson.com/api/v5/AllPrintings.json.xz\n"
   ]
  },
  {
   "cell_type": "code",
   "execution_count": 13,
   "id": "5d7bd92a",
   "metadata": {},
   "outputs": [],
   "source": [
    "def sql(_query):\n",
    "    return pd.read_sql_query(_query, db)"
   ]
  },
  {
   "cell_type": "markdown",
   "id": "d2364dd7",
   "metadata": {},
   "source": [
    "### Data Adquisition - SQL"
   ]
  },
  {
   "cell_type": "code",
   "execution_count": null,
   "id": "1b67ec44",
   "metadata": {},
   "outputs": [],
   "source": [
    "# Descarga el archivo SQL desde la URL\n",
    "url_database = \"https://mtgjson.com/api/v5/AllPrintings.sql\"\n",
    "response = requests.get(url_database)\n",
    "\n",
    "if response.status_code == 200:\n",
    "    # Guarda el contenido descargado en un archivo local\n",
    "    with open(\"MTG_Database.sql\", \"wb\") as sql_file:\n",
    "        sql_file.write(response.content)\n",
    "else:\n",
    "    print(f\"Error al descargar el archivo SQL. Código de estado: {response.status_code}\")"
   ]
  },
  {
   "cell_type": "code",
   "execution_count": 6,
   "id": "99206397",
   "metadata": {},
   "outputs": [],
   "source": [
    "# Configura la conexión a la base de datos MySQL\n",
    "try:\n",
    "    db = mysql.connector.connect(\n",
    "        host = \"localhost\",\n",
    "        user=\"root\",\n",
    "        password=\"1234\",\n",
    "        database= \"mtg\",\n",
    "    )\n",
    "except mysql.connector.Error as err:\n",
    "    if err.errno == errorcode.ER_ACCESS_DENIED_ERROR:\n",
    "        print(\"Acceso denegado: Usuario o contraseña incorrectos\")\n",
    "    elif err.errno == errorcode.ER_BAD_DB_ERROR:\n",
    "        print(\"La base de datos no existe\")\n",
    "    else:\n",
    "        print(err)\n",
    "        \n",
    "cursor = db.cursor()"
   ]
  },
  {
   "cell_type": "code",
   "execution_count": 3,
   "id": "ae923568",
   "metadata": {
    "scrolled": false
   },
   "outputs": [
    {
     "name": "stderr",
     "output_type": "stream",
     "text": [
      "Progreso: 100%|██████████| 1054838/1054838 [49:56<00:00, 352.05it/s]IOPub data rate exceeded.\n",
      "The notebook server will temporarily stop sending output\n",
      "to the client in order to avoid crashing it.\n",
      "To change this limit, set the config variable\n",
      "`--NotebookApp.iopub_data_rate_limit`.\n",
      "\n",
      "Current values:\n",
      "NotebookApp.iopub_data_rate_limit=1000000.0 (bytes/sec)\n",
      "NotebookApp.rate_limit_window=3.0 (secs)\n",
      "\n",
      "\n"
     ]
    }
   ],
   "source": [
    "# Lee el archivo SQL descargado\n",
    "try:\n",
    "    with open('MTG_Database.sql', 'r', encoding='utf-8') as sql_file:\n",
    "        sql_script = sql_file.read()\n",
    "\n",
    "    # Divide el script en comandos SQL (separados por ';')\n",
    "    sql_commands = sql_script.split(';')\n",
    "    \n",
    "     # Inicializa la barra de progreso\n",
    "    total_commands = len(sql_commands)\n",
    "    with tqdm(total=total_commands, desc=\"Progreso\") as pbar:\n",
    "        \n",
    "        lineas_con_errores = []\n",
    "        \n",
    "        # Itera a través de los comandos SQL\n",
    "        for command in sql_commands:\n",
    "            if command.strip():  # Ignora líneas en blanco\n",
    "                try:\n",
    "                    # Ejecuta el comando SQL\n",
    "                    cursor.execute(command)\n",
    "                    db.commit()\n",
    "                except mysql.connector.Error as err:\n",
    "                    lineas_con_errores.append(command)\n",
    "                    db.rollback()\n",
    "                    \n",
    "            pbar.update(1)\n",
    "            \n",
    "except FileNotFoundError as e:\n",
    "    print(f\"Error al abrir el archivo SQL: {e}\")\n",
    "except mysql.connector.Error as err:\n",
    "    print(f\"Error al conectar a la base de datos: {err}\")\n",
    "\n",
    "# Cierra el cursor y la conexión\n",
    "cursor.close()\n",
    "db.close()\n",
    "\n",
    "# Imprime las líneas con errores al final\n",
    "print(\"\\nLíneas con errores:\")\n",
    "for linea in lineas_con_errores:\n",
    "    print(linea)"
   ]
  },
  {
   "cell_type": "code",
   "execution_count": 25,
   "id": "c7597c16",
   "metadata": {},
   "outputs": [
    {
     "name": "stderr",
     "output_type": "stream",
     "text": [
      "C:\\Users\\macka\\AppData\\Local\\Temp\\ipykernel_8892\\3379854766.py:2: UserWarning: pandas only supports SQLAlchemy connectable (engine/connection) or database string URI or sqlite3 DBAPI2 connection. Other DBAPI2 objects are not tested. Please consider using SQLAlchemy.\n",
      "  return pd.read_sql_query(_query, db)\n"
     ]
    },
    {
     "data": {
      "text/html": [
       "<div>\n",
       "<style scoped>\n",
       "    .dataframe tbody tr th:only-of-type {\n",
       "        vertical-align: middle;\n",
       "    }\n",
       "\n",
       "    .dataframe tbody tr th {\n",
       "        vertical-align: top;\n",
       "    }\n",
       "\n",
       "    .dataframe thead th {\n",
       "        text-align: right;\n",
       "    }\n",
       "</style>\n",
       "<table border=\"1\" class=\"dataframe\">\n",
       "  <thead>\n",
       "    <tr style=\"text-align: right;\">\n",
       "      <th></th>\n",
       "      <th>id</th>\n",
       "      <th>faceName</th>\n",
       "      <th>flavorText</th>\n",
       "      <th>language</th>\n",
       "      <th>multiverseId</th>\n",
       "      <th>name</th>\n",
       "      <th>text</th>\n",
       "      <th>type</th>\n",
       "      <th>uuid</th>\n",
       "    </tr>\n",
       "  </thead>\n",
       "  <tbody>\n",
       "    <tr>\n",
       "      <th>0</th>\n",
       "      <td>102799</td>\n",
       "      <td>None</td>\n",
       "      <td>None</td>\n",
       "      <td>Spanish</td>\n",
       "      <td>123872</td>\n",
       "      <td>Estanque reproductor</td>\n",
       "      <td>({T}: Agrega {G} o {U} a tu reserva de maná.)\\...</td>\n",
       "      <td>Tierra — Bosque isla</td>\n",
       "      <td>27f5c620-9b05-5973-ba56-41a350eaad9b</td>\n",
       "    </tr>\n",
       "    <tr>\n",
       "      <th>1</th>\n",
       "      <td>139073</td>\n",
       "      <td>None</td>\n",
       "      <td>Profundidades inexploradas. Esperanzas ilimita...</td>\n",
       "      <td>Spanish</td>\n",
       "      <td>368038</td>\n",
       "      <td>Estanque reproductor</td>\n",
       "      <td>({T}: Agrega {G} o {U} a tu reserva de maná.)\\...</td>\n",
       "      <td>Tierra — Bosque isla</td>\n",
       "      <td>78441f3e-0047-548a-8f0d-e157fede836b</td>\n",
       "    </tr>\n",
       "    <tr>\n",
       "      <th>2</th>\n",
       "      <td>269569</td>\n",
       "      <td>None</td>\n",
       "      <td>\"Un comienzo, muchos caminos\".\\n—Vannifar</td>\n",
       "      <td>Spanish</td>\n",
       "      <td>457908</td>\n",
       "      <td>Estanque reproductor</td>\n",
       "      <td>({T}: Agrega {G} o {U}.)\\nEn cuanto el Estanqu...</td>\n",
       "      <td>Tierra — Bosque isla</td>\n",
       "      <td>2c89affc-1e48-5e11-9d6d-d1435d1f59ab</td>\n",
       "    </tr>\n",
       "  </tbody>\n",
       "</table>\n",
       "</div>"
      ],
      "text/plain": [
       "       id faceName                                         flavorText  \\\n",
       "0  102799     None                                               None   \n",
       "1  139073     None  Profundidades inexploradas. Esperanzas ilimita...   \n",
       "2  269569     None          \"Un comienzo, muchos caminos\".\\n—Vannifar   \n",
       "\n",
       "  language  multiverseId                  name  \\\n",
       "0  Spanish        123872  Estanque reproductor   \n",
       "1  Spanish        368038  Estanque reproductor   \n",
       "2  Spanish        457908  Estanque reproductor   \n",
       "\n",
       "                                                text                  type  \\\n",
       "0  ({T}: Agrega {G} o {U} a tu reserva de maná.)\\...  Tierra — Bosque isla   \n",
       "1  ({T}: Agrega {G} o {U} a tu reserva de maná.)\\...  Tierra — Bosque isla   \n",
       "2  ({T}: Agrega {G} o {U}.)\\nEn cuanto el Estanqu...  Tierra — Bosque isla   \n",
       "\n",
       "                                   uuid  \n",
       "0  27f5c620-9b05-5973-ba56-41a350eaad9b  \n",
       "1  78441f3e-0047-548a-8f0d-e157fede836b  \n",
       "2  2c89affc-1e48-5e11-9d6d-d1435d1f59ab  "
      ]
     },
     "execution_count": 25,
     "metadata": {},
     "output_type": "execute_result"
    }
   ],
   "source": [
    "sql(\"\"\"\n",
    "SELECT * FROM cardforeigndata WHERE (name=\"Estanque reproductor\")\n",
    "\"\"\")\n"
   ]
  },
  {
   "cell_type": "markdown",
   "id": "7f3a8004",
   "metadata": {},
   "source": [
    "### Scrap Price (https://www.mtgprice.com/sets/Ravnica_Allegiance/Breeding_Pool)"
   ]
  },
  {
   "cell_type": "code",
   "execution_count": null,
   "id": "3df50bfe",
   "metadata": {},
   "outputs": [],
   "source": [
    "# Configura el controlador de Chrome\n",
    "driver = webdriver.Chrome()\n",
    "for edition in edition_list:\n",
    "    for name in name\n",
    "\n",
    "    driver.get(f'https://www.mtgprice.com/sets/{edition}/{Name}')\n",
    "    prices=driver.execute_script('return results')\n",
    "    "
   ]
  },
  {
   "cell_type": "code",
   "execution_count": null,
   "id": "afb8d31c",
   "metadata": {},
   "outputs": [],
   "source": [
    "prices[4]"
   ]
  },
  {
   "cell_type": "markdown",
   "id": "70a874bb",
   "metadata": {},
   "source": [
    "## Cambiar de UNIX a UTF"
   ]
  },
  {
   "cell_type": "code",
   "execution_count": null,
   "id": "66ced2d4",
   "metadata": {},
   "outputs": [],
   "source": [
    "timestamp  = 1563092869548\n",
    "timestamp = timestamp / 1000 # 2019-07-14 08:27:49.548000\n",
    "date = datetime.datetime.utcfromtimestamp(timestamp)"
   ]
  },
  {
   "cell_type": "code",
   "execution_count": null,
   "id": "fec9a5df",
   "metadata": {},
   "outputs": [],
   "source": []
  }
 ],
 "metadata": {
  "kernelspec": {
   "display_name": "Python 3 (ipykernel)",
   "language": "python",
   "name": "python3"
  },
  "language_info": {
   "codemirror_mode": {
    "name": "ipython",
    "version": 3
   },
   "file_extension": ".py",
   "mimetype": "text/x-python",
   "name": "python",
   "nbconvert_exporter": "python",
   "pygments_lexer": "ipython3",
   "version": "3.9.18"
  },
  "toc": {
   "base_numbering": 1,
   "nav_menu": {},
   "number_sections": true,
   "sideBar": true,
   "skip_h1_title": false,
   "title_cell": "Table of Contents",
   "title_sidebar": "Contents",
   "toc_cell": false,
   "toc_position": {},
   "toc_section_display": true,
   "toc_window_display": false
  }
 },
 "nbformat": 4,
 "nbformat_minor": 5
}
